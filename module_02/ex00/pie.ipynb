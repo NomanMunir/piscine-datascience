{
 "cells": [
  {
   "cell_type": "markdown",
   "id": "6d1ba14e",
   "metadata": {},
   "source": [
    "# Exercise 00: American Apple Pie\n",
    "\n",
    "Create a pie chart to visualize user behavior on the website using data from Module 01's Data Warehouse."
   ]
  },
  {
   "cell_type": "code",
   "execution_count": null,
   "id": "e425062f",
   "metadata": {},
   "outputs": [],
   "source": [
    "# Import required libraries\n",
    "import matplotlib.pyplot as plt\n",
    "import pandas as pd\n",
    "import psycopg2\n",
    "from pathlib import Path\n",
    "\n",
    "# Load environment variables\n",
    "def load_env():\n",
    "    env_path = Path(\"../../module_01/.env\")\n",
    "    env_vars = {}\n",
    "    \n",
    "    with open(env_path, 'r') as f:\n",
    "        for line in f:\n",
    "            line = line.strip()\n",
    "            if line and not line.startswith('#') and '=' in line:\n",
    "                key, value = line.split('=', 1)\n",
    "                env_vars[key] = value\n",
    "    return env_vars\n",
    "\n",
    "# Get database connection\n",
    "def get_db_connection():\n",
    "    env_vars = load_env()\n",
    "    \n",
    "    conn = psycopg2.connect(\n",
    "        host=\"localhost\",\n",
    "        port=\"5432\",\n",
    "        database=env_vars.get('POSTGRES_DB', 'piscineds'),\n",
    "        user=env_vars.get('POSTGRES_USER', 'nmunir'),\n",
    "        password=env_vars.get('POSTGRES_PASSWORD', 'mysecretpassword')\n",
    "    )\n",
    "    return conn\n",
    "\n",
    "print(\"Libraries imported and functions defined successfully!\")"
   ]
  },
  {
   "cell_type": "code",
   "execution_count": null,
   "id": "30c82100",
   "metadata": {},
   "outputs": [],
   "source": [
    "# Extract user behavior data\n",
    "conn = get_db_connection()\n",
    "\n",
    "query = \"\"\"\n",
    "SELECT \n",
    "    COALESCE(event_type, 'unknown') as action,\n",
    "    COUNT(*) as count\n",
    "FROM customers \n",
    "GROUP BY event_type\n",
    "ORDER BY count DESC;\n",
    "\"\"\"\n",
    "\n",
    "data = pd.read_sql_query(query, conn)\n",
    "conn.close()\n",
    "\n",
    "print(\"User behavior data:\")\n",
    "print(data)\n",
    "print(f\"\\nTotal events: {data['count'].sum():,}\")"
   ]
  },
  {
   "cell_type": "code",
   "execution_count": null,
   "id": "fd6c2b65",
   "metadata": {},
   "outputs": [],
   "source": [
    "# Create the American Apple Pie chart\n",
    "plt.figure(figsize=(10, 8))\n",
    "\n",
    "# Define colors for each action type\n",
    "colors = ['#FF6B6B', '#4ECDC4', '#45B7D1', '#FFA07A']\n",
    "\n",
    "# Create pie chart\n",
    "plt.pie(data['count'], \n",
    "        labels=data['action'],\n",
    "        colors=colors,\n",
    "        autopct='%1.1f%%',\n",
    "        startangle=90,\n",
    "        explode=(0.05, 0.05, 0.05, 0.05))\n",
    "\n",
    "plt.title('American Apple Pie - User Behavior Analysis', fontsize=16, fontweight='bold')\n",
    "plt.axis('equal')  # Equal aspect ratio ensures that pie is drawn as a circle\n",
    "\n",
    "plt.show()\n",
    "\n",
    "print(\"\\n🥧 American Apple Pie chart created!\")"
   ]
  }
 ],
 "metadata": {
  "language_info": {
   "name": "python"
  }
 },
 "nbformat": 4,
 "nbformat_minor": 5
}
